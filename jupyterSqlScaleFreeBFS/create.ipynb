{
    "metadata": {
        "kernelspec": {
            "name": "SQL",
            "display_name": "SQL",
            "language": "sql"
        },
        "language_info": {
            "name": "sql",
            "version": ""
        }
    },
    "nbformat_minor": 2,
    "nbformat": 4,
    "cells": [
        {
            "cell_type": "markdown",
            "source": [
                "## Create the Command Structure"
            ],
            "metadata": {
                "azdata_cell_guid": "3c18420a-9d23-461c-9a9c-e9cdc920b5cf"
            },
            "attachments": {}
        },
        {
            "cell_type": "code",
            "source": [
                ""
            ],
            "metadata": {
                "azdata_cell_guid": "dcf0ec31-2b81-413b-93eb-2e944882020d",
                "language": "sql"
            },
            "outputs": [],
            "execution_count": null
        }
    ]
}